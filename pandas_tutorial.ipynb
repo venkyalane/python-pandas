{
 "cells": [
  {
   "cell_type": "code",
   "execution_count": 1,
   "id": "00383638-6312-4fe6-8dda-d078dfc38f84",
   "metadata": {},
   "outputs": [
    {
     "name": "stdout",
     "output_type": "stream",
     "text": [
      "   cars  speed\n",
      "0     5      3\n",
      "1     4      7\n",
      "2     8      2\n"
     ]
    }
   ],
   "source": [
    "import pandas as pd\n",
    "\n",
    "mydataset = {\n",
    "  'cars': [5,4,8],\n",
    "  'speed': [3, 7, 2]\n",
    "}\n",
    "\n",
    "myvar = pd.DataFrame(mydataset)\n",
    "\n",
    "print(myvar)"
   ]
  },
  {
   "cell_type": "code",
   "execution_count": 2,
   "id": "48b800fc-347b-4c58-a84e-c711497d095c",
   "metadata": {},
   "outputs": [
    {
     "name": "stdout",
     "output_type": "stream",
     "text": [
      "0    1\n",
      "1    7\n",
      "2    2\n",
      "dtype: int64\n"
     ]
    }
   ],
   "source": [
    "# What is a Series?\n",
    "# A Pandas Series is like a column in a table.\n",
    "import pandas as pd\n",
    "\n",
    "a = [1, 7, 2]\n",
    "\n",
    "myvar = pd.Series(a)\n",
    "\n",
    "print(myvar)"
   ]
  },
  {
   "cell_type": "code",
   "execution_count": 3,
   "id": "09bfb14e-c9ac-4a42-9d70-82d4f9fd5eb4",
   "metadata": {},
   "outputs": [
    {
     "name": "stdout",
     "output_type": "stream",
     "text": [
      "   calories  duration\n",
      "0       420        50\n",
      "1       380        40\n",
      "2       390        45\n",
      "calories    420\n",
      "duration     50\n",
      "Name: 0, dtype: int64\n",
      "   calories  duration\n",
      "0       420        50\n",
      "1       380        40\n"
     ]
    }
   ],
   "source": [
    "# What is a DataFrame?\n",
    "# A Pandas DataFrame is a 2 dimensional data structure, like a 2 dimensional array, or a table with rows and columns.\n",
    "import pandas as pd\n",
    "\n",
    "data = {\n",
    "  \"calories\": [420, 380, 390],\n",
    "  \"duration\": [50, 40, 45]\n",
    "}\n",
    "\n",
    "#load data into a DataFrame object:\n",
    "df = pd.DataFrame(data)\n",
    "\n",
    "print(df) \n",
    "\n",
    "#Pandas use the loc attribute to return one or more specified row(s)\n",
    "print(df.loc[0])\n",
    "\n",
    "#use a list of indexes:\n",
    "print(df.loc[[0, 1]])"
   ]
  },
  {
   "cell_type": "code",
   "execution_count": 4,
   "id": "57347f9c-2b14-4dad-88e8-3aa8a8c092de",
   "metadata": {},
   "outputs": [
    {
     "name": "stdout",
     "output_type": "stream",
     "text": [
      "      calories  duration\n",
      "day1       420        50\n",
      "day2       380        40\n",
      "day3       390        45\n",
      "calories    380\n",
      "duration     40\n",
      "Name: day2, dtype: int64\n"
     ]
    }
   ],
   "source": [
    "# Named Indexes\n",
    "# With the index argument, you can name your own indexes.\n",
    "#Add a list of names to give each row a name:\n",
    "\n",
    "import pandas as pd\n",
    "\n",
    "data = {\n",
    "  \"calories\": [420, 380, 390],\n",
    "  \"duration\": [50, 40, 45]\n",
    "}\n",
    "\n",
    "df = pd.DataFrame(data, index = [\"day1\", \"day2\", \"day3\"])\n",
    "\n",
    "print(df) \n",
    "\n",
    "#refer to the named index:\n",
    "print(df.loc[\"day2\"])"
   ]
  },
  {
   "cell_type": "code",
   "execution_count": 5,
   "id": "45c048c5-263b-49eb-8142-4caf1ed92c00",
   "metadata": {},
   "outputs": [
    {
     "name": "stdout",
     "output_type": "stream",
     "text": [
      "     Duration  Pulse  Maxpulse  Calories\n",
      "0          60    110       130     409.1\n",
      "1          60    117       145     479.0\n",
      "2          60    103       135     340.0\n",
      "3          45    109       175     282.4\n",
      "4          45    117       148     406.0\n",
      "5          60    102       127     300.0\n",
      "6          60    110       136     374.0\n",
      "7          45    104       134     253.3\n",
      "8          30    109       133     195.1\n",
      "9          60     98       124     269.0\n",
      "10         60    103       147     329.3\n",
      "11         60    100       120     250.7\n",
      "12         60    106       128     345.3\n",
      "13         60    104       132     379.3\n",
      "14         60     98       123     275.0\n",
      "15         60     98       120     215.2\n",
      "16         60    100       120     300.0\n",
      "17         45     90       112       NaN\n",
      "18         60    103       123     323.0\n",
      "19         45     97       125     243.0\n",
      "20         60    108       131     364.2\n",
      "21         45    100       119     282.0\n",
      "22         60    130       101     300.0\n",
      "23         45    105       132     246.0\n",
      "24         60    102       126     334.5\n",
      "25         60    100       120     250.0\n",
      "26         60     92       118     241.0\n",
      "27         60    103       132       NaN\n",
      "28         60    100       132     280.0\n",
      "29         60    102       129     380.3\n",
      "30         60     92       115     243.0\n",
      "31         45     90       112     180.1\n",
      "32         60    101       124     299.0\n",
      "33         60     93       113     223.0\n",
      "34         60    107       136     361.0\n",
      "35         60    114       140     415.0\n",
      "36         60    102       127     300.0\n",
      "37         60    100       120     300.0\n",
      "38         60    100       120     300.0\n",
      "39         45    104       129     266.0\n",
      "40         45     90       112     180.1\n",
      "41         60     98       126     286.0\n",
      "42         60    100       122     329.4\n",
      "43         60    111       138     400.0\n",
      "44         60    111       131     397.0\n",
      "45         60     99       119     273.0\n",
      "46         60    109       153     387.6\n",
      "47         45    111       136     300.0\n",
      "48         45    108       129     298.0\n",
      "49         60    111       139     397.6\n",
      "50         60    107       136     380.2\n",
      "51         80    123       146     643.1\n",
      "52         60    106       130     263.0\n",
      "53         60    118       151     486.0\n",
      "54         30    136       175     238.0\n",
      "55         60    121       146     450.7\n",
      "56         60    118       121     413.0\n",
      "57         45    115       144     305.0\n",
      "58         20    153       172     226.4\n",
      "59         45    123       152     321.0\n",
      "60        210    108       160    1376.0\n",
      "61        160    110       137    1034.4\n",
      "62        160    109       135     853.0\n",
      "63         45    118       141     341.0\n",
      "64         20    110       130     131.4\n",
      "65        180     90       130     800.4\n",
      "66        150    105       135     873.4\n",
      "67        150    107       130     816.0\n",
      "68         20    106       136     110.4\n",
      "69        300    108       143    1500.2\n",
      "70        150     97       129    1115.0\n",
      "71         60    109       153     387.6\n",
      "72         90    100       127     700.0\n",
      "73        150     97       127     953.2\n",
      "74         45    114       146     304.0\n",
      "75         90     98       125     563.2\n",
      "76         45    105       134     251.0\n",
      "77         45    110       141     300.0\n",
      "78        120    100       130     500.4\n",
      "79        270    100       131    1729.0\n",
      "80         30    159       182     319.2\n",
      "81         45    149       169     344.0\n",
      "82         30    103       139     151.1\n",
      "83        120    100       130     500.0\n",
      "84         45    100       120     225.3\n",
      "85         30    151       170     300.0\n",
      "86         45    102       136     234.0\n",
      "87        120    100       157    1000.1\n",
      "88         45    129       103     242.0\n",
      "89         20     83       107      50.3\n",
      "90        180    101       127     600.1\n",
      "91         45    107       137       NaN\n",
      "92         30     90       107     105.3\n",
      "93         15     80       100      50.5\n",
      "94         20    150       171     127.4\n",
      "95         20    151       168     229.4\n",
      "96         30     95       128     128.2\n",
      "97         25    152       168     244.2\n",
      "98         30    109       131     188.2\n",
      "99         90     93       124     604.1\n",
      "100        20     95       112      77.7\n",
      "101        90     90       110     500.0\n",
      "102        90     90       100     500.0\n",
      "103        90     90       100     500.4\n",
      "104        30     92       108      92.7\n",
      "105        30     93       128     124.0\n",
      "106       180     90       120     800.3\n",
      "107        30     90       120      86.2\n",
      "108        90     90       120     500.3\n",
      "109       210    137       184    1860.4\n",
      "110        60    102       124     325.2\n",
      "111        45    107       124     275.0\n",
      "112        15    124       139     124.2\n",
      "113        45    100       120     225.3\n",
      "114        60    108       131     367.6\n",
      "115        60    108       151     351.7\n",
      "116        60    116       141     443.0\n",
      "117        60     97       122     277.4\n",
      "118        60    105       125       NaN\n",
      "119        60    103       124     332.7\n",
      "120        30    112       137     193.9\n",
      "121        45    100       120     100.7\n",
      "122        60    119       169     336.7\n",
      "123        60    107       127     344.9\n",
      "124        60    111       151     368.5\n",
      "125        60     98       122     271.0\n",
      "126        60     97       124     275.3\n",
      "127        60    109       127     382.0\n",
      "128        90     99       125     466.4\n",
      "129        60    114       151     384.0\n",
      "130        60    104       134     342.5\n",
      "131        60    107       138     357.5\n",
      "132        60    103       133     335.0\n",
      "133        60    106       132     327.5\n",
      "134        60    103       136     339.0\n",
      "135        20    136       156     189.0\n",
      "136        45    117       143     317.7\n",
      "137        45    115       137     318.0\n",
      "138        45    113       138     308.0\n",
      "139        20    141       162     222.4\n",
      "140        60    108       135     390.0\n",
      "141        60     97       127       NaN\n",
      "142        45    100       120     250.4\n",
      "143        45    122       149     335.4\n",
      "144        60    136       170     470.2\n",
      "145        45    106       126     270.8\n",
      "146        60    107       136     400.0\n",
      "147        60    112       146     361.9\n",
      "148        30    103       127     185.0\n",
      "149        60    110       150     409.4\n",
      "150        60    106       134     343.0\n",
      "151        60    109       129     353.2\n",
      "152        60    109       138     374.0\n",
      "153        30    150       167     275.8\n",
      "154        60    105       128     328.0\n",
      "155        60    111       151     368.5\n",
      "156        60     97       131     270.4\n",
      "157        60    100       120     270.4\n",
      "158        60    114       150     382.8\n",
      "159        30     80       120     240.9\n",
      "160        30     85       120     250.4\n",
      "161        45     90       130     260.4\n",
      "162        45     95       130     270.0\n",
      "163        45    100       140     280.9\n",
      "164        60    105       140     290.8\n",
      "165        60    110       145     300.0\n",
      "166        60    115       145     310.2\n",
      "167        75    120       150     320.4\n",
      "168        75    125       150     330.4\n",
      "60\n"
     ]
    }
   ],
   "source": [
    "# Load Files Into a DataFrame\n",
    "# If your data sets are stored in a file, Pandas can load them into a DataFrame.\n",
    "import pandas as pd\n",
    "\n",
    "df = pd.read_csv('data.csv')\n",
    "\n",
    "\n",
    "print(df.to_string())\n",
    "\n",
    "# max_rows\n",
    "# The number of rows returned is defined in Pandas option settings.\n",
    "print(pd.options.display.max_rows)"
   ]
  },
  {
   "cell_type": "code",
   "execution_count": 6,
   "id": "8f625b33-9eb1-402e-b9ca-c0dc10ea40f4",
   "metadata": {},
   "outputs": [
    {
     "name": "stdout",
     "output_type": "stream",
     "text": [
      "   Duration  Pulse  Maxpulse  Calories\n",
      "0        60    110       130       409\n",
      "1        60    117       145       479\n",
      "2        60    103       135       340\n",
      "3        45    109       175       282\n",
      "4        45    117       148       406\n",
      "5        60    102       127       300\n"
     ]
    }
   ],
   "source": [
    "#Load a Python Dictionary into a DataFrame:\n",
    "\n",
    "import pandas as pd\n",
    "\n",
    "data = {\n",
    "  \"Duration\":{\n",
    "    \"0\":60,\n",
    "    \"1\":60,\n",
    "    \"2\":60,\n",
    "    \"3\":45,\n",
    "    \"4\":45,\n",
    "    \"5\":60\n",
    "  },\n",
    "  \"Pulse\":{\n",
    "    \"0\":110,\n",
    "    \"1\":117,\n",
    "    \"2\":103,\n",
    "    \"3\":109,\n",
    "    \"4\":117,\n",
    "    \"5\":102\n",
    "  },\n",
    "  \"Maxpulse\":{\n",
    "    \"0\":130,\n",
    "    \"1\":145,\n",
    "    \"2\":135,\n",
    "    \"3\":175,\n",
    "    \"4\":148,\n",
    "    \"5\":127\n",
    "  },\n",
    "  \"Calories\":{\n",
    "    \"0\":409,\n",
    "    \"1\":479,\n",
    "    \"2\":340,\n",
    "    \"3\":282,\n",
    "    \"4\":406,\n",
    "    \"5\":300\n",
    "  }\n",
    "}\n",
    "\n",
    "df = pd.DataFrame(data)\n",
    "\n",
    "print(df) "
   ]
  },
  {
   "cell_type": "code",
   "execution_count": 7,
   "id": "75168850-ca78-49ab-a013-f34ab6f806d9",
   "metadata": {},
   "outputs": [
    {
     "name": "stdout",
     "output_type": "stream",
     "text": [
      "   Duration  Pulse  Maxpulse  Calories\n",
      "0        60    110       130     409.1\n",
      "1        60    117       145     479.0\n",
      "2        60    103       135     340.0\n",
      "3        45    109       175     282.4\n",
      "4        45    117       148     406.0\n",
      "5        60    102       127     300.0\n",
      "6        60    110       136     374.0\n",
      "7        45    104       134     253.3\n",
      "8        30    109       133     195.1\n",
      "9        60     98       124     269.0\n"
     ]
    }
   ],
   "source": [
    "# Viewing the Data\n",
    "import pandas as pd\n",
    "\n",
    "df = pd.read_csv('data.csv')\n",
    "\n",
    "print(df.head(10))"
   ]
  },
  {
   "cell_type": "code",
   "execution_count": 8,
   "id": "bf8191d7-5199-4785-8531-6a822732fce4",
   "metadata": {},
   "outputs": [
    {
     "name": "stdout",
     "output_type": "stream",
     "text": [
      "     Duration  Pulse  Maxpulse  Calories\n",
      "164        60    105       140     290.8\n",
      "165        60    110       145     300.0\n",
      "166        60    115       145     310.2\n",
      "167        75    120       150     320.4\n",
      "168        75    125       150     330.4\n"
     ]
    }
   ],
   "source": [
    "#Print the last 5 rows of the DataFrame:\n",
    "import pandas as pd\n",
    "\n",
    "df = pd.read_csv('data.csv')\n",
    "print(df.tail())"
   ]
  },
  {
   "cell_type": "code",
   "execution_count": 9,
   "id": "d57e0cb4-d170-42dc-80db-835972a741ea",
   "metadata": {},
   "outputs": [
    {
     "name": "stdout",
     "output_type": "stream",
     "text": [
      "<class 'pandas.core.frame.DataFrame'>\n",
      "RangeIndex: 169 entries, 0 to 168\n",
      "Data columns (total 4 columns):\n",
      " #   Column    Non-Null Count  Dtype  \n",
      "---  ------    --------------  -----  \n",
      " 0   Duration  169 non-null    int64  \n",
      " 1   Pulse     169 non-null    int64  \n",
      " 2   Maxpulse  169 non-null    int64  \n",
      " 3   Calories  164 non-null    float64\n",
      "dtypes: float64(1), int64(3)\n",
      "memory usage: 5.4 KB\n",
      "None\n"
     ]
    }
   ],
   "source": [
    "# Info About the Data\n",
    "import pandas as pd\n",
    "\n",
    "df = pd.read_csv('data.csv')\n",
    "print(df.info())"
   ]
  },
  {
   "cell_type": "code",
   "execution_count": 10,
   "id": "eb95db90-d830-4408-b6c5-e6bee7463d92",
   "metadata": {},
   "outputs": [
    {
     "name": "stdout",
     "output_type": "stream",
     "text": [
      "   Duration         Date  Pulse   Maxpulse   Calories\n",
      "0        60  2020/12/02'     110        130     409.1\n",
      "1        60  2020/12/01'     117        145     479.0\n",
      "2       450  2020/12/08'     104        134     253.3\n",
      "3        45          NaN     100        119     282.0\n",
      "4        60  2020/12/28'     103        132       NaN\n",
      "5        60   2020/12/26     100        120     250.0\n",
      "6        45  2020/12/18'      90        112       NaN\n"
     ]
    }
   ],
   "source": [
    "# Data Cleaning\n",
    "# Data cleaning means fixing bad data in your data set.\n",
    "\n",
    "# Bad data could be:\n",
    "# Empty cells\n",
    "# Data in wrong format\n",
    "# Wrong data\n",
    "# Duplicates\n",
    "\n",
    "import pandas as pd\n",
    "\n",
    "df = pd.read_csv('data1.csv')\n",
    "\n",
    "print(df.to_string())"
   ]
  },
  {
   "cell_type": "code",
   "execution_count": 11,
   "id": "980eda2f-80ad-446d-8d4d-5de97466e60b",
   "metadata": {},
   "outputs": [
    {
     "name": "stdout",
     "output_type": "stream",
     "text": [
      "   Duration         Date  Pulse   Maxpulse   Calories\n",
      "0        60  2020/12/02'     110        130     409.1\n",
      "1        60  2020/12/01'     117        145     479.0\n",
      "2       450  2020/12/08'     104        134     253.3\n",
      "5        60   2020/12/26     100        120     250.0\n"
     ]
    }
   ],
   "source": [
    "# Pandas - Cleaning Empty Cells\n",
    "import pandas as pd\n",
    "\n",
    "df = pd.read_csv('data1.csv')\n",
    "\n",
    "new_df = df.dropna()\n",
    "\n",
    "print(new_df.to_string())"
   ]
  },
  {
   "cell_type": "code",
   "execution_count": 12,
   "id": "c0925e83-1a15-4715-805c-a300477d8490",
   "metadata": {},
   "outputs": [
    {
     "name": "stdout",
     "output_type": "stream",
     "text": [
      "   Duration         Date  Pulse   Maxpulse   Calories\n",
      "0        60  2020/12/02'     110        130     409.1\n",
      "1        60  2020/12/01'     117        145     479.0\n",
      "2       450  2020/12/08'     104        134     253.3\n",
      "5        60   2020/12/26     100        120     250.0\n"
     ]
    }
   ],
   "source": [
    "# If you want to change the original DataFrame, use the inplace = True argument:\n",
    "import pandas as pd\n",
    "\n",
    "df = pd.read_csv('data1.csv')\n",
    "\n",
    "df.dropna(inplace = True)\n",
    "\n",
    "print(df.to_string())"
   ]
  },
  {
   "cell_type": "code",
   "execution_count": 13,
   "id": "40463554-33d4-445e-8a9e-3d84016afeeb",
   "metadata": {},
   "outputs": [
    {
     "name": "stdout",
     "output_type": "stream",
     "text": [
      "   Duration         Date  Pulse   Maxpulse   Calories\n",
      "0        60  2020/12/02'     110        130     409.1\n",
      "1        60  2020/12/01'     117        145     479.0\n",
      "2       450  2020/12/08'     104        134     253.3\n",
      "3        45          130     100        119     282.0\n",
      "4        60  2020/12/28'     103        132     130.0\n",
      "5        60   2020/12/26     100        120     250.0\n",
      "6        45  2020/12/18'      90        112     130.0\n"
     ]
    }
   ],
   "source": [
    "# Replace Empty Values\n",
    "# The fillna() method allows us to replace empty cells with a value:\n",
    "\n",
    "import pandas as pd\n",
    "df = pd.read_csv('data1.csv')\n",
    "df.fillna(130, inplace=True)\n",
    "\n",
    "print(df)"
   ]
  },
  {
   "cell_type": "code",
   "execution_count": 14,
   "id": "66b8a8b0-b184-4e30-b040-4631532264bc",
   "metadata": {},
   "outputs": [
    {
     "name": "stdout",
     "output_type": "stream",
     "text": [
      "   Duration         Date  Pulse   Maxpulse   Calories\n",
      "0        60  2020/12/02'     110        130     409.1\n",
      "1        60  2020/12/01'     117        145     479.0\n",
      "2       450  2020/12/08'     104        134     253.3\n",
      "3        45          NaN     100        119     282.0\n",
      "4        60  2020/12/28'     103        132     130.0\n",
      "5        60   2020/12/26     100        120     250.0\n",
      "6        45  2020/12/18'      90        112     130.0\n"
     ]
    }
   ],
   "source": [
    "# Replace Only For Specified Columns\n",
    "\n",
    "import pandas as pd\n",
    "df = pd.read_csv('data1.csv')\n",
    "df[\"Calories\"].fillna(130, inplace=True)\n",
    "\n",
    "print(df)"
   ]
  },
  {
   "cell_type": "code",
   "execution_count": 15,
   "id": "e3eb9c1a-cbff-4ad5-9546-e615964b8881",
   "metadata": {},
   "outputs": [
    {
     "name": "stdout",
     "output_type": "stream",
     "text": [
      "   Duration         Date  Pulse   Maxpulse   Calories\n",
      "0        60  2020/12/02'     110        130    409.10\n",
      "1        60  2020/12/01'     117        145    479.00\n",
      "2       450  2020/12/08'     104        134    253.30\n",
      "3        45          NaN     100        119    282.00\n",
      "4        60  2020/12/28'     103        132    334.68\n",
      "5        60   2020/12/26     100        120    250.00\n",
      "6        45  2020/12/18'      90        112    334.68\n"
     ]
    }
   ],
   "source": [
    "# A common way to replace empty cells, is to calculate the mean, median or mode value of the column.\n",
    "# Pandas uses the mean() median() and mode() methods to calculate the respective values for a specified column:\n",
    "# Mean = the average value (the sum of all values divided by number of values).\n",
    "\n",
    "import pandas as pd\n",
    "df = pd.read_csv('data1.csv')\n",
    "x = df[\"Calories\"].mean()\n",
    "df[\"Calories\"].fillna(x, inplace=True)\n",
    "\n",
    "print(df)"
   ]
  },
  {
   "cell_type": "code",
   "execution_count": 16,
   "id": "e663ed72-df5a-4f58-80ac-fd3b876541dd",
   "metadata": {},
   "outputs": [
    {
     "name": "stdout",
     "output_type": "stream",
     "text": [
      "   Duration         Date  Pulse   Maxpulse   Calories\n",
      "0        60  2020/12/02'     110        130     409.1\n",
      "1        60  2020/12/01'     117        145     479.0\n",
      "2       450  2020/12/08'     104        134     253.3\n",
      "3        45          NaN     100        119     282.0\n",
      "4        60  2020/12/28'     103        132     282.0\n",
      "5        60   2020/12/26     100        120     250.0\n",
      "6        45  2020/12/18'      90        112     282.0\n"
     ]
    }
   ],
   "source": [
    "# Calculate the MEDIAN, and replace any empty values with it:\n",
    "# Median = the value in the middle, after you have sorted all values ascending.\n",
    "\n",
    "import pandas as pd\n",
    "df = pd.read_csv('data1.csv')\n",
    "x = df[\"Calories\"].median()\n",
    "df[\"Calories\"].fillna(x, inplace=True)\n",
    "\n",
    "print(df)"
   ]
  },
  {
   "cell_type": "code",
   "execution_count": 17,
   "id": "7982fef7-1090-45ca-a7ba-d76c5c4859d5",
   "metadata": {},
   "outputs": [
    {
     "name": "stdout",
     "output_type": "stream",
     "text": [
      "   Duration         Date  Pulse   Maxpulse   Calories\n",
      "0        60  2020/12/02'     110        130     409.1\n",
      "1        60  2020/12/01'     117        145     479.0\n",
      "2       450  2020/12/08'     104        134     253.3\n",
      "3        45          NaN     100        119     282.0\n",
      "4        60  2020/12/28'     103        132     250.0\n",
      "5        60   2020/12/26     100        120     250.0\n",
      "6        45  2020/12/18'      90        112     250.0\n"
     ]
    }
   ],
   "source": [
    "# Calculate the MODE, and replace any empty values with it:\n",
    "# Mode = the value that appears most frequently.\n",
    "\n",
    "import pandas as pd\n",
    "df = pd.read_csv('data1.csv')\n",
    "x = df[\"Calories\"].mode()[0]\n",
    "df[\"Calories\"].fillna(x, inplace = True)\n",
    "\n",
    "print(df)"
   ]
  },
  {
   "cell_type": "code",
   "execution_count": 18,
   "id": "ec4a04dc-06f5-4d9f-ad79-e8e4840efc6b",
   "metadata": {},
   "outputs": [
    {
     "name": "stdout",
     "output_type": "stream",
     "text": [
      "     Duration       Date  Pulse  Maxpulse  Calories\n",
      "0          60 2022-12-05    110       130     409.1\n",
      "1          60 2020-11-20    117       145     479.0\n",
      "2          60 2022-03-12    103       135     340.0\n",
      "3          45 2020-08-06    109       175     282.4\n",
      "4          45        NaT    117       148     406.0\n",
      "..        ...        ...    ...       ...       ...\n",
      "164        60        NaT    105       140     290.8\n",
      "165        60        NaT    110       145     300.0\n",
      "166        60        NaT    115       145     310.2\n",
      "167        75        NaT    120       150     320.4\n",
      "168        75        NaT    125       150     330.4\n",
      "\n",
      "[169 rows x 5 columns]\n"
     ]
    }
   ],
   "source": [
    "# Pandas - Cleaning Data of Wrong Format\n",
    "# Convert Into a Correct Format\n",
    "\n",
    "import pandas as pd\n",
    "df = pd.read_csv('data2.csv')\n",
    "\n",
    "df['Date'] = pd.to_datetime(df['Date'])\n",
    "\n",
    "print(df)"
   ]
  },
  {
   "cell_type": "code",
   "execution_count": 19,
   "id": "e701d997-82b9-43b2-bd5d-7c66e731bbab",
   "metadata": {},
   "outputs": [
    {
     "name": "stdout",
     "output_type": "stream",
     "text": [
      "befor:    Duration         Date  Pulse   Maxpulse   Calories\n",
      "0        60  2020/12/02'     110        130     409.1\n",
      "1        60  2020/12/01'     117        145     479.0\n",
      "2       450  2020/12/08'     104        134     253.3\n",
      "3        45          NaN     100        119     282.0\n",
      "4        60  2020/12/28'     103        132       NaN\n",
      "5        60   2020/12/26     100        120     250.0\n",
      "6        45  2020/12/18'      90        112       NaN\n",
      "\n",
      "after:    Duration         Date  Pulse   Maxpulse   Calories\n",
      "0        60  2020/12/02'     110        130     409.1\n",
      "1        60  2020/12/01'     117        145     479.0\n",
      "2       450  2020/12/08'     104        134     253.3\n",
      "4        60  2020/12/28'     103        132       NaN\n",
      "5        60   2020/12/26     100        120     250.0\n",
      "6        45  2020/12/18'      90        112       NaN\n"
     ]
    }
   ],
   "source": [
    "# Remove rows with a NULL value in the \"Date\" column:\n",
    "\n",
    "import pandas as pd\n",
    "df = pd.read_csv('data1.csv')\n",
    "print('befor:', df)\n",
    "print()\n",
    "df.dropna(subset=['Date'], inplace=True)\n",
    "print('after:', df)"
   ]
  },
  {
   "cell_type": "code",
   "execution_count": 20,
   "id": "6d3c6a03-cf9e-4114-a5fb-2a3948844bd1",
   "metadata": {},
   "outputs": [
    {
     "name": "stdout",
     "output_type": "stream",
     "text": [
      "   Duration         Date  Pulse   Maxpulse   Calories\n",
      "0        60  2020/12/02'     110        130     409.1\n",
      "1        60  2020/12/01'     117        145     479.0\n",
      "2        45  2020/12/08'     104        134     253.3\n",
      "3        45          NaN     100        119     282.0\n",
      "4        60  2020/12/28'     103        132       NaN\n",
      "5        60   2020/12/26     100        120     250.0\n",
      "6        45  2020/12/18'      90        112       NaN\n",
      "\n",
      "     Duration        Date  Pulse  Maxpulse  Calories\n",
      "0          60   2022/12/5    110       130     409.1\n",
      "1          60  2020/11/20    117       145     479.0\n",
      "2          60   2022/3/12    103       135     340.0\n",
      "3          45    2020/8/6    109       175     282.4\n",
      "4          45   1995/8/25    117       148     406.0\n",
      "..        ...         ...    ...       ...       ...\n",
      "164        60         NaN    105       140     290.8\n",
      "165        60         NaN    110       145     300.0\n",
      "166        60         NaN    115       145     310.2\n",
      "167        75         NaN    120       150     320.4\n",
      "168        75         NaN    125       150     330.4\n",
      "\n",
      "[169 rows x 5 columns]\n"
     ]
    }
   ],
   "source": [
    "# Wrong Data\n",
    "# Replacing Values at row number 2\n",
    "\n",
    "import pandas as pd\n",
    "df = pd.read_csv('data1.csv')\n",
    "df.loc[2, 'Duration'] = 45\n",
    "print(df)\n",
    "\n",
    "print()\n",
    "\n",
    "df1 = pd.read_csv('data2.csv')\n",
    "df1.loc[4, 'Date']='1995/8/25'\n",
    "print(df1)"
   ]
  },
  {
   "cell_type": "code",
   "execution_count": 21,
   "id": "dfd48eb7-a4cc-4d8c-a80c-e199a4a562d3",
   "metadata": {},
   "outputs": [
    {
     "name": "stdout",
     "output_type": "stream",
     "text": [
      "   Duration         Date  Pulse   Maxpulse   Calories\n",
      "0        60  2020/12/02'     110        130     409.1\n",
      "1        60  2020/12/01'     117        145     479.0\n",
      "2       120  2020/12/08'     104        134     253.3\n",
      "3        45          NaN     100        119     282.0\n",
      "4        60  2020/12/28'     103        132       NaN\n",
      "5        60   2020/12/26     100        120     250.0\n",
      "6        45  2020/12/18'      90        112       NaN\n"
     ]
    }
   ],
   "source": [
    "# Loop through all values in the \"Duration\" column.\n",
    "# If the value is higher than 120, set it to 120:\n",
    "\n",
    "import pandas as pd\n",
    "df = pd.read_csv('data1.csv')\n",
    "for x in df.index:\n",
    "    if df.loc[x, 'Duration'] > 120:\n",
    "        df.loc[x, 'Duration'] = 120\n",
    "\n",
    "print(df)"
   ]
  },
  {
   "cell_type": "code",
   "execution_count": 22,
   "id": "233e3cf7-fb11-4876-aa2d-8a00f9a6764f",
   "metadata": {},
   "outputs": [
    {
     "name": "stdout",
     "output_type": "stream",
     "text": [
      "   Duration         Date  Pulse   Maxpulse   Calories\n",
      "0        60  2020/12/02'     110        130     409.1\n",
      "1        60  2020/12/01'     117        145     479.0\n",
      "3        45          NaN     100        119     282.0\n",
      "4        60  2020/12/28'     103        132       NaN\n",
      "5        60   2020/12/26     100        120     250.0\n",
      "6        45  2020/12/18'      90        112       NaN\n"
     ]
    }
   ],
   "source": [
    "# Delete rows where \"Duration\" is higher than 120:\n",
    "\n",
    "import pandas as pd\n",
    "df = pd.read_csv('data1.csv')\n",
    "for x in df.index:\n",
    "  if df.loc[x, \"Duration\"] > 120:\n",
    "    df.drop(x, inplace = True)\n",
    "\n",
    "print(df)"
   ]
  },
  {
   "cell_type": "code",
   "execution_count": 23,
   "id": "90337792-34cf-40c2-a09b-e51be8bd7ce7",
   "metadata": {},
   "outputs": [
    {
     "name": "stdout",
     "output_type": "stream",
     "text": [
      "     Duration        Date  Pulse  Maxpulse  Calories\n",
      "0          60   2022/12/5    110       130     409.1\n",
      "1          60  2020/11/20    117       145     479.0\n",
      "2          60   2022/3/12    103       135     340.0\n",
      "3          45    2020/8/6    109       175     282.4\n",
      "4          45         NaN    117       148     406.0\n",
      "5          60         NaN    102       127     300.0\n",
      "6          60         NaN    110       136     374.0\n",
      "7          45         NaN    104       134     253.3\n",
      "8          30         NaN    109       133     195.1\n",
      "9          60         NaN    103       147     329.3\n",
      "11         60         NaN    100       120     250.7\n",
      "12         60         NaN    106       128     345.3\n",
      "13         60         NaN    104       132     379.3\n",
      "14         60         NaN     98       123     275.0\n",
      "15         60         NaN     98       120     215.2\n",
      "16         60         NaN    100       120     300.0\n",
      "17         45         NaN     90       112       NaN\n",
      "18         60         NaN    103       123     323.0\n",
      "19         45         NaN     97       125     243.0\n",
      "20         60         NaN    108       131     364.2\n",
      "21         45         NaN    100       119     282.0\n",
      "22         60         NaN    130       101     300.0\n",
      "23         45         NaN    105       132     246.0\n",
      "24         60         NaN    102       126     334.5\n",
      "25         60         NaN    100       120     250.0\n",
      "26         60         NaN     92       118     241.0\n",
      "27         60         NaN    103       132       NaN\n",
      "28         60         NaN    100       132     280.0\n",
      "29         60         NaN    102       129     380.3\n",
      "30         60         NaN     92       115     243.0\n",
      "31         45         NaN     90       112     180.1\n",
      "32         60         NaN    101       124     299.0\n",
      "33         60         NaN     93       113     223.0\n",
      "34         60         NaN    107       136     361.0\n",
      "35         60         NaN    114       140     415.0\n",
      "39         45         NaN    104       129     266.0\n",
      "41         60         NaN     98       126     286.0\n",
      "42         60         NaN    100       122     329.4\n",
      "43         60         NaN    111       138     400.0\n",
      "44         60         NaN    111       131     397.0\n",
      "45         60         NaN     99       119     273.0\n",
      "46         60         NaN    109       153     387.6\n",
      "47         45         NaN    111       136     300.0\n",
      "48         45         NaN    108       129     298.0\n",
      "49         60         NaN    111       139     397.6\n",
      "50         60         NaN    107       136     380.2\n",
      "51         80         NaN    123       146     643.1\n",
      "52         60         NaN    106       130     263.0\n",
      "53         60         NaN    118       151     486.0\n",
      "54         30         NaN    136       175     238.0\n",
      "55         60         NaN    121       146     450.7\n",
      "56         60         NaN    118       121     413.0\n",
      "57         45         NaN    115       144     305.0\n",
      "58         20         NaN    153       172     226.4\n",
      "59         45         NaN    123       152     321.0\n",
      "60        210         NaN    108       160    1376.0\n",
      "61        160         NaN    110       137    1034.4\n",
      "62        160         NaN    109       135     853.0\n",
      "63         45         NaN    118       141     341.0\n",
      "64         20         NaN    110       130     131.4\n",
      "65        180         NaN     90       130     800.4\n",
      "66        150         NaN    105       135     873.4\n",
      "67        150         NaN    107       130     816.0\n",
      "68         20         NaN    106       136     110.4\n",
      "69        300         NaN    108       143    1500.2\n",
      "70        150         NaN     97       129    1115.0\n",
      "72         90         NaN    100       127     700.0\n",
      "73        150         NaN     97       127     953.2\n",
      "74         45         NaN    114       146     304.0\n",
      "75         90         NaN     98       125     563.2\n",
      "76         45         NaN    105       134     251.0\n",
      "77         45         NaN    110       141     300.0\n",
      "78        120         NaN    100       130     500.4\n",
      "79        270         NaN    100       131    1729.0\n",
      "80         30         NaN    159       182     319.2\n",
      "81         45         NaN    149       169     344.0\n",
      "82         30         NaN    103       139     151.1\n",
      "83        120         NaN    100       130     500.0\n",
      "84         45         NaN    100       120     225.3\n",
      "85         30         NaN    151       170     300.0\n",
      "86         45         NaN    102       136     234.0\n",
      "87        120         NaN    100       157    1000.1\n",
      "88         45         NaN    129       103     242.0\n",
      "89         20         NaN     83       107      50.3\n",
      "90        180         NaN    101       127     600.1\n",
      "91         45         NaN    107       137       NaN\n",
      "92         30         NaN     90       107     105.3\n",
      "93         15         NaN     80       100      50.5\n",
      "94         20         NaN    150       171     127.4\n",
      "95         20         NaN    151       168     229.4\n",
      "96         30         NaN     95       128     128.2\n",
      "97         25         NaN    152       168     244.2\n",
      "98         30         NaN    109       131     188.2\n",
      "99         90         NaN     93       124     604.1\n",
      "100        20         NaN     95       112      77.7\n",
      "101        90         NaN     90       110     500.0\n",
      "102        90         NaN     90       100     500.0\n",
      "103        90         NaN     90       100     500.4\n",
      "104        30         NaN     92       108      92.7\n",
      "105        30         NaN     93       128     124.0\n",
      "106       180         NaN     90       120     800.3\n",
      "107        30         NaN     90       120      86.2\n",
      "108        90         NaN     90       120     500.3\n",
      "109       210         NaN    137       184    1860.4\n",
      "110        60         NaN    102       124     325.2\n",
      "111        45         NaN    107       124     275.0\n",
      "112        15         NaN    124       139     124.2\n",
      "114        60         NaN    108       131     367.6\n",
      "115        60         NaN    108       151     351.7\n",
      "116        60         NaN    116       141     443.0\n",
      "117        60         NaN     97       122     277.4\n",
      "118        60         NaN    105       125       NaN\n",
      "119        60         NaN    103       124     332.7\n",
      "120        30         NaN    112       137     193.9\n",
      "121        45         NaN    100       120     100.7\n",
      "122        60         NaN    119       169     336.7\n",
      "123        60         NaN    107       127     344.9\n",
      "124        60         NaN    111       151     368.5\n",
      "125        60         NaN     98       122     271.0\n",
      "126        60         NaN     97       124     275.3\n",
      "127        60         NaN    109       127     382.0\n",
      "128        90         NaN     99       125     466.4\n",
      "129        60         NaN    114       151     384.0\n",
      "130        60         NaN    104       134     342.5\n",
      "131        60         NaN    107       138     357.5\n",
      "132        60         NaN    103       133     335.0\n",
      "133        60         NaN    106       132     327.5\n",
      "134        60         NaN    103       136     339.0\n",
      "135        20         NaN    136       156     189.0\n",
      "136        45         NaN    117       143     317.7\n",
      "137        45         NaN    115       137     318.0\n",
      "138        45         NaN    113       138     308.0\n",
      "139        20         NaN    141       162     222.4\n",
      "140        60         NaN    108       135     390.0\n",
      "141        60         NaN     97       127       NaN\n",
      "142        45         NaN    100       120     250.4\n",
      "143        45         NaN    122       149     335.4\n",
      "144        60         NaN    136       170     470.2\n",
      "145        45         NaN    106       126     270.8\n",
      "146        60         NaN    107       136     400.0\n",
      "147        60         NaN    112       146     361.9\n",
      "148        30         NaN    103       127     185.0\n",
      "149        60         NaN    110       150     409.4\n",
      "150        60         NaN    106       134     343.0\n",
      "151        60         NaN    109       129     353.2\n",
      "152        60         NaN    109       138     374.0\n",
      "153        30         NaN    150       167     275.8\n",
      "154        60         NaN    105       128     328.0\n",
      "156        60         NaN     97       131     270.4\n",
      "157        60         NaN    100       120     270.4\n",
      "158        60         NaN    114       150     382.8\n",
      "159        30         NaN     80       120     240.9\n",
      "160        30         NaN     85       120     250.4\n",
      "161        45         NaN     90       130     260.4\n",
      "162        45         NaN     95       130     270.0\n",
      "163        45         NaN    100       140     280.9\n",
      "164        60         NaN    105       140     290.8\n",
      "165        60         NaN    110       145     300.0\n",
      "166        60         NaN    115       145     310.2\n",
      "167        75         NaN    120       150     320.4\n",
      "168        75         NaN    125       150     330.4\n"
     ]
    }
   ],
   "source": [
    "# Pandas - Removing Duplicates row 10,36,37,38,40,71,113,155,\n",
    "import pandas as pd\n",
    "df = pd.read_csv('data2.csv')\n",
    "# The duplicated() method returns a Boolean values for each row:\n",
    "# Returns True for every row that is a duplicate, othwerwise False:\n",
    "# print(df.duplicated().to_string())\n",
    "df.drop_duplicates(inplace=True)\n",
    "print(df.to_string())"
   ]
  },
  {
   "cell_type": "code",
   "execution_count": 24,
   "id": "47cc35ad-6b42-4542-97a4-50a5043298bb",
   "metadata": {},
   "outputs": [
    {
     "name": "stdout",
     "output_type": "stream",
     "text": [
      "          Duration     Pulse  Maxpulse  Calories\n",
      "Duration  1.000000 -0.155408  0.009403  0.922717\n",
      "Pulse    -0.155408  1.000000  0.786535  0.025121\n",
      "Maxpulse  0.009403  0.786535  1.000000  0.203813\n",
      "Calories  0.922717  0.025121  0.203813  1.000000\n"
     ]
    }
   ],
   "source": [
    "# Finding Relationships\n",
    "# A great aspect of the Pandas module is the corr() method.\n",
    "# The corr() method calculates the relationship between each column in your data set.\n",
    "df = pd.read_csv('data.csv')\n",
    "print(df.corr())"
   ]
  },
  {
   "cell_type": "code",
   "execution_count": 25,
   "id": "188490e5-70ac-4bed-8f41-e8ad3d6cfb44",
   "metadata": {},
   "outputs": [
    {
     "data": {
      "image/png": "[encoded data removed]",
      "text/plain": [
       "<Figure size 640x480 with 1 Axes>"
      ]
     },
     "metadata": {},
     "output_type": "display_data"
    }
   ],
   "source": [
    "# Plotting\n",
    "# Pandas uses the plot() method to create diagrams.\n",
    "# We can use Pyplot, a submodule of the Matplotlib library to visualize the diagram on the screen.\n",
    "\n",
    "import pandas as pd\n",
    "import matplotlib.pyplot as plt\n",
    "df = pd.read_csv('data.csv')\n",
    "df.plot()\n",
    "plt.show()"
   ]
  },
  {
   "cell_type": "code",
   "execution_count": 26,
   "id": "a09f0de9-886c-4a70-90cd-581ddca59b3b",
   "metadata": {},
   "outputs": [
    {
     "data": {
      "image/png": "[encoded data removed]",
      "text/plain": [
       "<Figure size 640x480 with 1 Axes>"
      ]
     },
     "metadata": {},
     "output_type": "display_data"
    }
   ],
   "source": [
    "# Scatter Plot\n",
    "# Specify that you want a scatter plot with the kind argument:\n",
    "# kind = 'scatter'\n",
    "# A scatter plot needs an x- and a y-axis.\n",
    "# In the example below we will use \"Duration\" for the x-axis and \"Calories\" for the y-axis.\n",
    "# Include the x and y arguments like this:\n",
    "# x = 'Duration', y = 'Calories'\n",
    "\n",
    "import pandas as pd\n",
    "import matplotlib.pyplot as plt\n",
    "df = pd.read_csv('data.csv')\n",
    "df.plot(kind = 'scatter', x = 'Duration', y = 'Calories')\n",
    "plt.title(\"Helth\")\n",
    "plt.show()"
   ]
  },
  {
   "cell_type": "code",
   "execution_count": 27,
   "id": "40887f5c-716d-480b-af2d-ba3f6bbb4c57",
   "metadata": {},
   "outputs": [
    {
     "data": {
      "image/png": "[encoded data removed]",
      "text/plain": [
       "<Figure size 640x480 with 1 Axes>"
      ]
     },
     "metadata": {},
     "output_type": "display_data"
    }
   ],
   "source": [
    "# A scatterplot where there are no relationship between the columns:\n",
    "import pandas as pd\n",
    "import matplotlib.pyplot as plt\n",
    "df = pd.read_csv('data.csv')\n",
    "df.plot(kind = 'scatter', x = 'Duration', y = 'Maxpulse')\n",
    "plt.title(\"Helth\")\n",
    "plt.show()"
   ]
  },
  {
   "cell_type": "code",
   "execution_count": 28,
   "id": "773d3609-9438-46da-896b-45d58992793d",
   "metadata": {},
   "outputs": [
    {
     "data": {
      "image/png": "[encoded data removed]",
      "text/plain": [
       "<Figure size 640x480 with 1 Axes>"
      ]
     },
     "metadata": {},
     "output_type": "display_data"
    }
   ],
   "source": [
    "# Histogram\n",
    "# Use the kind argument to specify that you want a histogram:\n",
    "# kind = 'hist'\n",
    "# A histogram needs only one column.\n",
    "# A histogram shows us the frequency of each interval, e.g. how many workouts lasted between 50 and 60 minutes?\n",
    "# In the example below we will use the \"Duration\" column to create the histogram:\n",
    "import pandas as pd\n",
    "import matplotlib.pyplot as plt\n",
    "df = pd.read_csv('data.csv')\n",
    "df['Pulse'].plot(kind='hist')\n",
    "plt.show()"
   ]
  },
  {
   "cell_type": "code",
   "execution_count": 29,
   "id": "2952a8b7-6d3a-4b4b-bf09-130c6f79e655",
   "metadata": {},
   "outputs": [
    {
     "data": {
      "image/png": "[encoded data removed]",
      "text/plain": [
       "<Figure size 640x480 with 1 Axes>"
      ]
     },
     "metadata": {},
     "output_type": "display_data"
    }
   ],
   "source": [
    "import matplotlib.pyplot as plt\n",
    "df  = pd.read_csv('student.csv')\n",
    "df.plot()\n",
    "plt.show()"
   ]
  },
  {
   "cell_type": "code",
   "execution_count": 30,
   "id": "ee03ab1c-e9de-44ef-af9d-0035e9833ee7",
   "metadata": {},
   "outputs": [
    {
     "data": {
      "image/png": "[encoded data removed]",
      "text/plain": [
       "<Figure size 640x480 with 1 Axes>"
      ]
     },
     "metadata": {},
     "output_type": "display_data"
    }
   ],
   "source": [
    "import matplotlib.pyplot as plt\n",
    "df  = pd.read_csv('student.csv')\n",
    "df.plot(kind='scatter', x='id', y='mark')\n",
    "plt.show()"
   ]
  },
  {
   "cell_type": "code",
   "execution_count": null,
   "id": "dfe80987-b514-4a5f-8241-225f019078ff",
   "metadata": {},
   "outputs": [],
   "source": []
  }
 ],
 "metadata": {
  "kernelspec": {
   "display_name": "Python 3 (ipykernel)",
   "language": "python",
   "name": "python3"
  },
  "language_info": {
   "codemirror_mode": {
    "name": "ipython",
    "version": 3
   },
   "file_extension": ".py",
   "mimetype": "text/x-python",
   "name": "python",
   "nbconvert_exporter": "python",
   "pygments_lexer": "ipython3",
   "version": "3.11.2"
  }
 },
 "nbformat": 4,
 "nbformat_minor": 5
}
